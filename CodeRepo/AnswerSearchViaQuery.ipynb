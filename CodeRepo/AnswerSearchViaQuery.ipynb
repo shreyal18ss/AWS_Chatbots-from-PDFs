{
 "cells": [
  {
   "cell_type": "code",
   "execution_count": 1,
   "id": "642b0ac2",
   "metadata": {},
   "outputs": [
    {
     "name": "stderr",
     "output_type": "stream",
     "text": [
      "C:\\Users\\rajul\\anaconda3\\lib\\site-packages\\fuzzywuzzy\\fuzz.py:11: UserWarning: Using slow pure-python SequenceMatcher. Install python-Levenshtein to remove this warning\n",
      "  warnings.warn('Using slow pure-python SequenceMatcher. Install python-Levenshtein to remove this warning')\n"
     ]
    }
   ],
   "source": [
    "import pandas as pd\n",
    "from fuzzywuzzy import fuzz\n",
    "from fuzzywuzzy import process\n",
    "import nltk\n",
    "from nltk.corpus import stopwords\n",
    "from nltk.stem.snowball import SnowballStemmer\n",
    "\n",
    "# nltk.download('stopwords')"
   ]
  },
  {
   "cell_type": "code",
   "execution_count": 2,
   "id": "0d4b7aab",
   "metadata": {},
   "outputs": [],
   "source": [
    "stop_words = set(nltk.corpus.stopwords.words('english'))\n"
   ]
  },
  {
   "cell_type": "code",
   "execution_count": 3,
   "id": "ca66f36f",
   "metadata": {},
   "outputs": [],
   "source": [
    "df=pd.read_csv(\"Query-Answers.csv\")"
   ]
  },
  {
   "cell_type": "code",
   "execution_count": 4,
   "id": "0caff128",
   "metadata": {},
   "outputs": [],
   "source": [
    "df=df[['Query','Answer']]"
   ]
  },
  {
   "cell_type": "code",
   "execution_count": 5,
   "id": "5bf0d31a",
   "metadata": {},
   "outputs": [],
   "source": [
    "input=\"Number of countries\"\n"
   ]
  },
  {
   "cell_type": "code",
   "execution_count": 6,
   "id": "fee32bd3",
   "metadata": {},
   "outputs": [
    {
     "name": "stdout",
     "output_type": "stream",
     "text": [
      "['Number', 'of', 'countries']\n",
      "['Number', 'countries']\n",
      "number\n",
      "countri\n"
     ]
    }
   ],
   "source": [
    "words1 = input.split()  # list of all words in sentence\n",
    "print(words1)\n",
    "# wordSet2=set(words1)\n",
    "####Removing stopwords for better search result####\n",
    "for word in words1:\n",
    "        if word in stop_words:\n",
    "            words1.remove(word)\n",
    "print(words1)\n",
    "\n",
    "########Stemming Input############\n",
    "snowBallStemmer = SnowballStemmer(\"english\")\n",
    "words2=[]\n",
    "for word in words1:\n",
    "#     if(word=='TCS'):\n",
    "#        words2.append(word)      \n",
    "#     else:\n",
    "        word=snowBallStemmer.stem(word)\n",
    "        print(word)\n",
    "        words2.append(word)\n",
    "\n",
    "wordSet1 = set(words2)\n"
   ]
  },
  {
   "cell_type": "code",
   "execution_count": 7,
   "id": "e7d0dd06",
   "metadata": {},
   "outputs": [],
   "source": [
    "#####List of Questions to be matched with#####\n",
    "Queries=[]\n",
    "for i in df.iterrows():\n",
    "    Queries.append(str(i[1][0]))"
   ]
  },
  {
   "cell_type": "code",
   "execution_count": 8,
   "id": "82352387",
   "metadata": {},
   "outputs": [
    {
     "data": {
      "text/plain": [
       "{'countri', 'number'}"
      ]
     },
     "execution_count": 8,
     "metadata": {},
     "output_type": "execute_result"
    }
   ],
   "source": [
    "wordSet1"
   ]
  },
  {
   "cell_type": "code",
   "execution_count": 9,
   "id": "4334d712",
   "metadata": {},
   "outputs": [
    {
     "name": "stdout",
     "output_type": "stream",
     "text": [
      "Number of countries\n",
      "55\n"
     ]
    }
   ],
   "source": [
    "matchSentence = Queries\n",
    "maxCount = 0\n",
    "maxCntInd = -1\n",
    "\n",
    "\n",
    "for item in matchSentence:\n",
    "    ''' here get the index of the `item`\n",
    "    if all the words are in the `item.split()` is in the `sentence`\n",
    "    '''\n",
    "    words2 = item.split()  # list of all words in item\n",
    "    words3=[]\n",
    "    for word in words2:    #remove stop words\n",
    "        if word in stop_words:\n",
    "            words2.remove(word)\n",
    "        word=snowBallStemmer.stem(word) # Stemming\n",
    "        words3.append(word)\n",
    "#     print(words3)\n",
    "    wordSet2 = set(words3)\n",
    "#     print(wordSet2)\n",
    "\n",
    "    commonWords = len(wordSet2.intersection(wordSet1))\n",
    "    if commonWords >= maxCount:\n",
    "        maxCount = commonWords\n",
    "        maxCntInd = matchSentence.index(item)\n",
    "print(input)\n",
    "print(df.loc[maxCntInd]['Answer'])"
   ]
  },
  {
   "cell_type": "code",
   "execution_count": 10,
   "id": "1346a14a",
   "metadata": {},
   "outputs": [
    {
     "data": {
      "text/html": [
       "<div>\n",
       "<style scoped>\n",
       "    .dataframe tbody tr th:only-of-type {\n",
       "        vertical-align: middle;\n",
       "    }\n",
       "\n",
       "    .dataframe tbody tr th {\n",
       "        vertical-align: top;\n",
       "    }\n",
       "\n",
       "    .dataframe thead th {\n",
       "        text-align: right;\n",
       "    }\n",
       "</style>\n",
       "<table border=\"1\" class=\"dataframe\">\n",
       "  <thead>\n",
       "    <tr style=\"text-align: right;\">\n",
       "      <th></th>\n",
       "      <th>Query</th>\n",
       "      <th>Answer</th>\n",
       "    </tr>\n",
       "  </thead>\n",
       "  <tbody>\n",
       "    <tr>\n",
       "      <th>0</th>\n",
       "      <td>What is the theme</td>\n",
       "      <td>Building on Belief</td>\n",
       "    </tr>\n",
       "    <tr>\n",
       "      <th>1</th>\n",
       "      <td>How many consultants are there</td>\n",
       "      <td>592,000</td>\n",
       "    </tr>\n",
       "    <tr>\n",
       "      <th>2</th>\n",
       "      <td>Number of countries</td>\n",
       "      <td>55</td>\n",
       "    </tr>\n",
       "    <tr>\n",
       "      <th>3</th>\n",
       "      <td>When did the fiscal year end</td>\n",
       "      <td>March 31, 2022</td>\n",
       "    </tr>\n",
       "    <tr>\n",
       "      <th>4</th>\n",
       "      <td>What is TCS</td>\n",
       "      <td>Tata Consultancy Services</td>\n",
       "    </tr>\n",
       "    <tr>\n",
       "      <th>5</th>\n",
       "      <td>What is Tata Consultancy Services</td>\n",
       "      <td>IT services, consulting and business solutions...</td>\n",
       "    </tr>\n",
       "    <tr>\n",
       "      <th>6</th>\n",
       "      <td>What does TCS offer</td>\n",
       "      <td>a consulting-led, cognitive powered, integrate...</td>\n",
       "    </tr>\n",
       "    <tr>\n",
       "      <th>7</th>\n",
       "      <td>Where is TCS listed</td>\n",
       "      <td>BSE (formerly Bombay Stock Exchange) and the N...</td>\n",
       "    </tr>\n",
       "    <tr>\n",
       "      <th>8</th>\n",
       "      <td>proactive stance of TCS</td>\n",
       "      <td>climate change and winning work with communiti...</td>\n",
       "    </tr>\n",
       "    <tr>\n",
       "      <th>9</th>\n",
       "      <td>What does the theme mean</td>\n",
       "      <td>Building on Belief</td>\n",
       "    </tr>\n",
       "    <tr>\n",
       "      <th>10</th>\n",
       "      <td>Explain TCS theme</td>\n",
       "      <td>'Innovating for Greater Futures'</td>\n",
       "    </tr>\n",
       "    <tr>\n",
       "      <th>11</th>\n",
       "      <td>TCS's delivery model innovations</td>\n",
       "      <td>Al-powered Machine First approach, and platfor...</td>\n",
       "    </tr>\n",
       "    <tr>\n",
       "      <th>12</th>\n",
       "      <td>What is  helping the company drive holistic gr...</td>\n",
       "      <td>Al-powered Machine, Business models</td>\n",
       "    </tr>\n",
       "  </tbody>\n",
       "</table>\n",
       "</div>"
      ],
      "text/plain": [
       "                                                Query  \\\n",
       "0                                   What is the theme   \n",
       "1                      How many consultants are there   \n",
       "2                                 Number of countries   \n",
       "3                        When did the fiscal year end   \n",
       "4                                         What is TCS   \n",
       "5                   What is Tata Consultancy Services   \n",
       "6                                 What does TCS offer   \n",
       "7                                 Where is TCS listed   \n",
       "8                             proactive stance of TCS   \n",
       "9                            What does the theme mean   \n",
       "10                                  Explain TCS theme   \n",
       "11                   TCS's delivery model innovations   \n",
       "12  What is  helping the company drive holistic gr...   \n",
       "\n",
       "                                               Answer  \n",
       "0                                  Building on Belief  \n",
       "1                                             592,000  \n",
       "2                                                  55  \n",
       "3                                      March 31, 2022  \n",
       "4                           Tata Consultancy Services  \n",
       "5   IT services, consulting and business solutions...  \n",
       "6   a consulting-led, cognitive powered, integrate...  \n",
       "7   BSE (formerly Bombay Stock Exchange) and the N...  \n",
       "8   climate change and winning work with communiti...  \n",
       "9                                  Building on Belief  \n",
       "10                   'Innovating for Greater Futures'  \n",
       "11  Al-powered Machine First approach, and platfor...  \n",
       "12                Al-powered Machine, Business models  "
      ]
     },
     "execution_count": 10,
     "metadata": {},
     "output_type": "execute_result"
    }
   ],
   "source": [
    "\n",
    "df"
   ]
  },
  {
   "cell_type": "code",
   "execution_count": 12,
   "id": "0f4b7727",
   "metadata": {},
   "outputs": [],
   "source": [
    "# ####Remove keyword TCS for better search result####\n",
    "# if len(wordSet1)>1:\n",
    "#     for word in wordSet1.copy():\n",
    "#         if word == 'TCS':\n",
    "#             wordSet1.remove(word)"
   ]
  },
  {
   "cell_type": "code",
   "execution_count": 13,
   "id": "3a6c0265",
   "metadata": {},
   "outputs": [],
   "source": [
    "####FuzzySearch####\n",
    "# for i in df.iterrows():\n",
    "#     x=process.extractBests(input, Queries)\n",
    "#     if(x[0][-1])>=85:\n",
    "#         print(x[0])"
   ]
  },
  {
   "cell_type": "code",
   "execution_count": null,
   "id": "30d361fe",
   "metadata": {},
   "outputs": [],
   "source": []
  }
 ],
 "metadata": {
  "kernelspec": {
   "display_name": "Python 3 (ipykernel)",
   "language": "python",
   "name": "python3"
  },
  "language_info": {
   "codemirror_mode": {
    "name": "ipython",
    "version": 3
   },
   "file_extension": ".py",
   "mimetype": "text/x-python",
   "name": "python",
   "nbconvert_exporter": "python",
   "pygments_lexer": "ipython3",
   "version": "3.9.7"
  }
 },
 "nbformat": 4,
 "nbformat_minor": 5
}
