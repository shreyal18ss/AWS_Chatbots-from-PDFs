{
 "cells": [
  {
   "cell_type": "code",
   "execution_count": 1,
   "id": "774debd7",
   "metadata": {},
   "outputs": [],
   "source": [
    "import pandas as pd\n",
    "# !pip install -U pandasql\n",
    "from pandasql import sqldf"
   ]
  },
  {
   "cell_type": "code",
   "execution_count": 2,
   "id": "f1eae914",
   "metadata": {},
   "outputs": [],
   "source": [
    "table = pd.read_csv('table_1d83892810bc4ec79aaba7a822d72407_page_3.csv')"
   ]
  },
  {
   "cell_type": "code",
   "execution_count": 3,
   "id": "06e2a454",
   "metadata": {},
   "outputs": [],
   "source": [
    "table=table.T"
   ]
  },
  {
   "cell_type": "code",
   "execution_count": 4,
   "id": "84ff5cf8",
   "metadata": {},
   "outputs": [],
   "source": [
    "table=pd.DataFrame(table)"
   ]
  },
  {
   "cell_type": "code",
   "execution_count": 5,
   "id": "80168f8e",
   "metadata": {},
   "outputs": [],
   "source": [
    "table=table[1:]"
   ]
  },
  {
   "cell_type": "code",
   "execution_count": 6,
   "id": "fa8ba709",
   "metadata": {},
   "outputs": [],
   "source": [
    "table=table.reset_index()"
   ]
  },
  {
   "cell_type": "code",
   "execution_count": 7,
   "id": "cb5382ea",
   "metadata": {},
   "outputs": [
    {
     "data": {
      "text/html": [
       "<div>\n",
       "<style scoped>\n",
       "    .dataframe tbody tr th:only-of-type {\n",
       "        vertical-align: middle;\n",
       "    }\n",
       "\n",
       "    .dataframe tbody tr th {\n",
       "        vertical-align: top;\n",
       "    }\n",
       "\n",
       "    .dataframe thead th {\n",
       "        text-align: right;\n",
       "    }\n",
       "</style>\n",
       "<table border=\"1\" class=\"dataframe\">\n",
       "  <thead>\n",
       "    <tr style=\"text-align: right;\">\n",
       "      <th></th>\n",
       "      <th>index</th>\n",
       "      <th>0</th>\n",
       "      <th>1</th>\n",
       "    </tr>\n",
       "  </thead>\n",
       "  <tbody>\n",
       "    <tr>\n",
       "      <th>0</th>\n",
       "      <td>Rajesh Gopinathan</td>\n",
       "      <td>Chief Executive Officer</td>\n",
       "      <td>and Managing Director</td>\n",
       "    </tr>\n",
       "    <tr>\n",
       "      <th>1</th>\n",
       "      <td>Rajashree R</td>\n",
       "      <td>Chief Marketing</td>\n",
       "      <td>NOT_SELECTED Officer</td>\n",
       "    </tr>\n",
       "  </tbody>\n",
       "</table>\n",
       "</div>"
      ],
      "text/plain": [
       "               index                        0                      1\n",
       "0  Rajesh Gopinathan  Chief Executive Officer  and Managing Director\n",
       "1        Rajashree R          Chief Marketing   NOT_SELECTED Officer"
      ]
     },
     "execution_count": 7,
     "metadata": {},
     "output_type": "execute_result"
    }
   ],
   "source": [
    "table"
   ]
  },
  {
   "cell_type": "code",
   "execution_count": 8,
   "id": "2584c588",
   "metadata": {},
   "outputs": [
    {
     "name": "stdout",
     "output_type": "stream",
     "text": [
      "Requirement already satisfied: fuzzywuzzy in c:\\users\\rajul\\anaconda3\\lib\\site-packages (0.18.0)\n"
     ]
    },
    {
     "name": "stderr",
     "output_type": "stream",
     "text": [
      "C:\\Users\\rajul\\anaconda3\\lib\\site-packages\\fuzzywuzzy\\fuzz.py:11: UserWarning: Using slow pure-python SequenceMatcher. Install python-Levenshtein to remove this warning\n",
      "  warnings.warn('Using slow pure-python SequenceMatcher. Install python-Levenshtein to remove this warning')\n"
     ]
    }
   ],
   "source": [
    "!pip install fuzzywuzzy\n",
    "from fuzzywuzzy import fuzz\n",
    "from fuzzywuzzy import process"
   ]
  },
  {
   "cell_type": "code",
   "execution_count": 9,
   "id": "060b4905",
   "metadata": {},
   "outputs": [],
   "source": [
    "word='who is the Chief Executive Officer'"
   ]
  },
  {
   "cell_type": "code",
   "execution_count": 10,
   "id": "ba806619",
   "metadata": {},
   "outputs": [],
   "source": [
    "for i in table.iterrows():\n",
    "\n",
    "    x=process.extractBests(word, i)\n",
    "    if(x[0][-1])>=90:\n",
    "        print(x[0])\n",
    "        pass\n"
   ]
  },
  {
   "cell_type": "code",
   "execution_count": null,
   "id": "b08707e2",
   "metadata": {},
   "outputs": [],
   "source": []
  },
  {
   "cell_type": "code",
   "execution_count": 11,
   "id": "3802d67e",
   "metadata": {},
   "outputs": [
    {
     "data": {
      "text/plain": [
       "index          Rajesh Gopinathan\n",
       "0        Chief Executive Officer\n",
       "1          and Managing Director\n",
       "Name: 0, dtype: object"
      ]
     },
     "execution_count": 11,
     "metadata": {},
     "output_type": "execute_result"
    }
   ],
   "source": [
    "table.loc[0]"
   ]
  },
  {
   "cell_type": "code",
   "execution_count": 12,
   "id": "40986d12",
   "metadata": {},
   "outputs": [],
   "source": [
    "#################################################"
   ]
  },
  {
   "cell_type": "code",
   "execution_count": 13,
   "id": "d1d09797",
   "metadata": {},
   "outputs": [],
   "source": [
    "table2 = pd.read_csv('table_08f71301c8764c12845058c42e76556c_page_2.csv')"
   ]
  },
  {
   "cell_type": "code",
   "execution_count": 14,
   "id": "dbfb023e",
   "metadata": {},
   "outputs": [],
   "source": [
    "table2=table2.T\n",
    "table2=pd.DataFrame(table2)\n",
    "table2=table2[1:]\n",
    "table2=table2.reset_index()\n",
    "\n"
   ]
  },
  {
   "cell_type": "code",
   "execution_count": 15,
   "id": "92f9e4a9",
   "metadata": {},
   "outputs": [
    {
     "data": {
      "text/html": [
       "<div>\n",
       "<style scoped>\n",
       "    .dataframe tbody tr th:only-of-type {\n",
       "        vertical-align: middle;\n",
       "    }\n",
       "\n",
       "    .dataframe tbody tr th {\n",
       "        vertical-align: top;\n",
       "    }\n",
       "\n",
       "    .dataframe thead th {\n",
       "        text-align: right;\n",
       "    }\n",
       "</style>\n",
       "<table border=\"1\" class=\"dataframe\">\n",
       "  <thead>\n",
       "    <tr style=\"text-align: right;\">\n",
       "      <th></th>\n",
       "      <th>index</th>\n",
       "      <th>0</th>\n",
       "      <th>1</th>\n",
       "      <th>2</th>\n",
       "      <th>3</th>\n",
       "      <th>4</th>\n",
       "    </tr>\n",
       "  </thead>\n",
       "  <tbody>\n",
       "    <tr>\n",
       "      <th>0</th>\n",
       "      <td>Keki M</td>\n",
       "      <td>Mistry</td>\n",
       "      <td>C C M I</td>\n",
       "      <td>N Chandrasekaran</td>\n",
       "      <td>Chairman</td>\n",
       "      <td>C C M N</td>\n",
       "    </tr>\n",
       "    <tr>\n",
       "      <th>1</th>\n",
       "      <td>N G Subramaniam</td>\n",
       "      <td>COO</td>\n",
       "      <td>M NE</td>\n",
       "      <td>Aarthi</td>\n",
       "      <td>Subramanian</td>\n",
       "      <td>SELECTED M N</td>\n",
       "    </tr>\n",
       "    <tr>\n",
       "      <th>2</th>\n",
       "      <td>Hanne Sorensen</td>\n",
       "      <td></td>\n",
       "      <td>M M I</td>\n",
       "      <td>Dr Pradeep Kumar</td>\n",
       "      <td>Khosla</td>\n",
       "      <td>C M I</td>\n",
       "    </tr>\n",
       "    <tr>\n",
       "      <th>3</th>\n",
       "      <td>Rajesh Gopinathan</td>\n",
       "      <td>CEO &amp; MD</td>\n",
       "      <td>M M M NE</td>\n",
       "      <td>Don Callahan</td>\n",
       "      <td></td>\n",
       "      <td>M M I</td>\n",
       "    </tr>\n",
       "  </tbody>\n",
       "</table>\n",
       "</div>"
      ],
      "text/plain": [
       "               index         0         1                 2            3  \\\n",
       "0             Keki M    Mistry   C C M I  N Chandrasekaran     Chairman   \n",
       "1    N G Subramaniam       COO      M NE            Aarthi  Subramanian   \n",
       "2     Hanne Sorensen               M M I  Dr Pradeep Kumar       Khosla   \n",
       "3  Rajesh Gopinathan  CEO & MD  M M M NE      Don Callahan                \n",
       "\n",
       "              4  \n",
       "0       C C M N  \n",
       "1  SELECTED M N  \n",
       "2         C M I  \n",
       "3         M M I  "
      ]
     },
     "execution_count": 15,
     "metadata": {},
     "output_type": "execute_result"
    }
   ],
   "source": [
    "table2"
   ]
  },
  {
   "cell_type": "code",
   "execution_count": 16,
   "id": "b9a57928",
   "metadata": {},
   "outputs": [],
   "source": [
    "table3=table2.iloc[:,-3:]\n",
    "table2=table2.iloc[:,:3]"
   ]
  },
  {
   "cell_type": "code",
   "execution_count": 17,
   "id": "119d31f7",
   "metadata": {},
   "outputs": [],
   "source": [
    "table3=table3.rename(columns={2:'index',3:0,4:1})"
   ]
  },
  {
   "cell_type": "code",
   "execution_count": 18,
   "id": "28c6f912",
   "metadata": {},
   "outputs": [
    {
     "data": {
      "text/html": [
       "<div>\n",
       "<style scoped>\n",
       "    .dataframe tbody tr th:only-of-type {\n",
       "        vertical-align: middle;\n",
       "    }\n",
       "\n",
       "    .dataframe tbody tr th {\n",
       "        vertical-align: top;\n",
       "    }\n",
       "\n",
       "    .dataframe thead th {\n",
       "        text-align: right;\n",
       "    }\n",
       "</style>\n",
       "<table border=\"1\" class=\"dataframe\">\n",
       "  <thead>\n",
       "    <tr style=\"text-align: right;\">\n",
       "      <th></th>\n",
       "      <th>index</th>\n",
       "      <th>0</th>\n",
       "      <th>1</th>\n",
       "    </tr>\n",
       "  </thead>\n",
       "  <tbody>\n",
       "    <tr>\n",
       "      <th>0</th>\n",
       "      <td>Keki M</td>\n",
       "      <td>Mistry</td>\n",
       "      <td>C C M I</td>\n",
       "    </tr>\n",
       "    <tr>\n",
       "      <th>1</th>\n",
       "      <td>N G Subramaniam</td>\n",
       "      <td>COO</td>\n",
       "      <td>M NE</td>\n",
       "    </tr>\n",
       "    <tr>\n",
       "      <th>2</th>\n",
       "      <td>Hanne Sorensen</td>\n",
       "      <td></td>\n",
       "      <td>M M I</td>\n",
       "    </tr>\n",
       "    <tr>\n",
       "      <th>3</th>\n",
       "      <td>Rajesh Gopinathan</td>\n",
       "      <td>CEO &amp; MD</td>\n",
       "      <td>M M M NE</td>\n",
       "    </tr>\n",
       "  </tbody>\n",
       "</table>\n",
       "</div>"
      ],
      "text/plain": [
       "               index         0         1\n",
       "0             Keki M    Mistry   C C M I\n",
       "1    N G Subramaniam       COO      M NE\n",
       "2     Hanne Sorensen               M M I\n",
       "3  Rajesh Gopinathan  CEO & MD  M M M NE"
      ]
     },
     "execution_count": 18,
     "metadata": {},
     "output_type": "execute_result"
    }
   ],
   "source": [
    "table2"
   ]
  },
  {
   "cell_type": "code",
   "execution_count": 19,
   "id": "04a1ba19",
   "metadata": {},
   "outputs": [],
   "source": [
    "l=[table2,table3]\n",
    "final_table=pd.concat(l)"
   ]
  },
  {
   "cell_type": "code",
   "execution_count": 20,
   "id": "fb711c36",
   "metadata": {},
   "outputs": [
    {
     "data": {
      "text/html": [
       "<div>\n",
       "<style scoped>\n",
       "    .dataframe tbody tr th:only-of-type {\n",
       "        vertical-align: middle;\n",
       "    }\n",
       "\n",
       "    .dataframe tbody tr th {\n",
       "        vertical-align: top;\n",
       "    }\n",
       "\n",
       "    .dataframe thead th {\n",
       "        text-align: right;\n",
       "    }\n",
       "</style>\n",
       "<table border=\"1\" class=\"dataframe\">\n",
       "  <thead>\n",
       "    <tr style=\"text-align: right;\">\n",
       "      <th></th>\n",
       "      <th>index</th>\n",
       "      <th>Position</th>\n",
       "      <th>Status</th>\n",
       "    </tr>\n",
       "  </thead>\n",
       "  <tbody>\n",
       "    <tr>\n",
       "      <th>0</th>\n",
       "      <td>Keki M</td>\n",
       "      <td>Mistry</td>\n",
       "      <td>C C M I</td>\n",
       "    </tr>\n",
       "    <tr>\n",
       "      <th>1</th>\n",
       "      <td>N G Subramaniam</td>\n",
       "      <td>COO</td>\n",
       "      <td>M NE</td>\n",
       "    </tr>\n",
       "    <tr>\n",
       "      <th>2</th>\n",
       "      <td>Hanne Sorensen</td>\n",
       "      <td></td>\n",
       "      <td>M M I</td>\n",
       "    </tr>\n",
       "    <tr>\n",
       "      <th>3</th>\n",
       "      <td>Rajesh Gopinathan</td>\n",
       "      <td>CEO &amp; MD</td>\n",
       "      <td>M M M NE</td>\n",
       "    </tr>\n",
       "    <tr>\n",
       "      <th>0</th>\n",
       "      <td>N Chandrasekaran</td>\n",
       "      <td>Chairman</td>\n",
       "      <td>C C M N</td>\n",
       "    </tr>\n",
       "    <tr>\n",
       "      <th>1</th>\n",
       "      <td>Aarthi</td>\n",
       "      <td>Subramanian</td>\n",
       "      <td>SELECTED M N</td>\n",
       "    </tr>\n",
       "    <tr>\n",
       "      <th>2</th>\n",
       "      <td>Dr Pradeep Kumar</td>\n",
       "      <td>Khosla</td>\n",
       "      <td>C M I</td>\n",
       "    </tr>\n",
       "    <tr>\n",
       "      <th>3</th>\n",
       "      <td>Don Callahan</td>\n",
       "      <td></td>\n",
       "      <td>M M I</td>\n",
       "    </tr>\n",
       "  </tbody>\n",
       "</table>\n",
       "</div>"
      ],
      "text/plain": [
       "               index     Position        Status\n",
       "0             Keki M       Mistry       C C M I\n",
       "1    N G Subramaniam          COO          M NE\n",
       "2     Hanne Sorensen                      M M I\n",
       "3  Rajesh Gopinathan     CEO & MD      M M M NE\n",
       "0   N Chandrasekaran     Chairman       C C M N\n",
       "1             Aarthi  Subramanian  SELECTED M N\n",
       "2   Dr Pradeep Kumar       Khosla         C M I\n",
       "3       Don Callahan                      M M I"
      ]
     },
     "execution_count": 20,
     "metadata": {},
     "output_type": "execute_result"
    }
   ],
   "source": [
    "final_table=final_table.rename(columns={0:'Position',1:'Status'})\n",
    "final_table"
   ]
  },
  {
   "cell_type": "code",
   "execution_count": 21,
   "id": "34771ba4",
   "metadata": {},
   "outputs": [],
   "source": [
    "Values={\n",
    "'M':'Member',\n",
    "'I':'Independent, Non-Executive Director',\n",
    "'N':'Non-Independent, Non-Executive Director',\n",
    "'NE':'Non-Independent, Executive Director'\n",
    "}"
   ]
  },
  {
   "cell_type": "code",
   "execution_count": 22,
   "id": "fbe32c31",
   "metadata": {},
   "outputs": [
    {
     "name": "stdout",
     "output_type": "stream",
     "text": [
      "(index       Rajesh Gopinathan\n",
      "Position             CEO & MD\n",
      "Status               M M M NE\n",
      "Name: 3, dtype: object, 86)\n"
     ]
    }
   ],
   "source": [
    "for i in final_table.iterrows():\n",
    "\n",
    "    x=process.extractBests('who is the CEO', i)\n",
    "    if(x[0][-1])>=80:\n",
    "        print(x[0])\n",
    "        pass\n"
   ]
  },
  {
   "cell_type": "code",
   "execution_count": 23,
   "id": "f7437299",
   "metadata": {},
   "outputs": [],
   "source": [
    "# q = \"SELECT * FROM final_table where 'Position' LIKE '%M%'\"\n",
    "# sqldf(q, globals())"
   ]
  },
  {
   "cell_type": "code",
   "execution_count": 24,
   "id": "138d5da0",
   "metadata": {},
   "outputs": [
    {
     "data": {
      "text/plain": [
       "Index(['index', 'Position', 'Status'], dtype='object')"
      ]
     },
     "execution_count": 24,
     "metadata": {},
     "output_type": "execute_result"
    }
   ],
   "source": [
    "final_table.columns"
   ]
  },
  {
   "cell_type": "code",
   "execution_count": 25,
   "id": "f7166ab9",
   "metadata": {},
   "outputs": [
    {
     "data": {
      "text/html": [
       "<div>\n",
       "<style scoped>\n",
       "    .dataframe tbody tr th:only-of-type {\n",
       "        vertical-align: middle;\n",
       "    }\n",
       "\n",
       "    .dataframe tbody tr th {\n",
       "        vertical-align: top;\n",
       "    }\n",
       "\n",
       "    .dataframe thead th {\n",
       "        text-align: right;\n",
       "    }\n",
       "</style>\n",
       "<table border=\"1\" class=\"dataframe\">\n",
       "  <thead>\n",
       "    <tr style=\"text-align: right;\">\n",
       "      <th></th>\n",
       "      <th>index</th>\n",
       "      <th>Position</th>\n",
       "    </tr>\n",
       "  </thead>\n",
       "  <tbody>\n",
       "    <tr>\n",
       "      <th>0</th>\n",
       "      <td>Keki M</td>\n",
       "      <td>Mistry</td>\n",
       "    </tr>\n",
       "    <tr>\n",
       "      <th>1</th>\n",
       "      <td>N G Subramaniam</td>\n",
       "      <td>COO</td>\n",
       "    </tr>\n",
       "    <tr>\n",
       "      <th>2</th>\n",
       "      <td>Hanne Sorensen</td>\n",
       "      <td></td>\n",
       "    </tr>\n",
       "    <tr>\n",
       "      <th>3</th>\n",
       "      <td>Rajesh Gopinathan</td>\n",
       "      <td>CEO &amp; MD</td>\n",
       "    </tr>\n",
       "    <tr>\n",
       "      <th>0</th>\n",
       "      <td>N Chandrasekaran</td>\n",
       "      <td>Chairman</td>\n",
       "    </tr>\n",
       "    <tr>\n",
       "      <th>1</th>\n",
       "      <td>Aarthi</td>\n",
       "      <td>Subramanian</td>\n",
       "    </tr>\n",
       "    <tr>\n",
       "      <th>2</th>\n",
       "      <td>Dr Pradeep Kumar</td>\n",
       "      <td>Khosla</td>\n",
       "    </tr>\n",
       "    <tr>\n",
       "      <th>3</th>\n",
       "      <td>Don Callahan</td>\n",
       "      <td></td>\n",
       "    </tr>\n",
       "  </tbody>\n",
       "</table>\n",
       "</div>"
      ],
      "text/plain": [
       "               index     Position\n",
       "0             Keki M       Mistry\n",
       "1    N G Subramaniam          COO\n",
       "2     Hanne Sorensen             \n",
       "3  Rajesh Gopinathan     CEO & MD\n",
       "0   N Chandrasekaran     Chairman\n",
       "1             Aarthi  Subramanian\n",
       "2   Dr Pradeep Kumar       Khosla\n",
       "3       Don Callahan             "
      ]
     },
     "execution_count": 25,
     "metadata": {},
     "output_type": "execute_result"
    }
   ],
   "source": [
    "final_table[final_table[\"Status\"].str.contains(\"M\")].iloc[:,:2]"
   ]
  },
  {
   "cell_type": "code",
   "execution_count": 26,
   "id": "93b983bf",
   "metadata": {},
   "outputs": [
    {
     "data": {
      "text/html": [
       "<div>\n",
       "<style scoped>\n",
       "    .dataframe tbody tr th:only-of-type {\n",
       "        vertical-align: middle;\n",
       "    }\n",
       "\n",
       "    .dataframe tbody tr th {\n",
       "        vertical-align: top;\n",
       "    }\n",
       "\n",
       "    .dataframe thead th {\n",
       "        text-align: right;\n",
       "    }\n",
       "</style>\n",
       "<table border=\"1\" class=\"dataframe\">\n",
       "  <thead>\n",
       "    <tr style=\"text-align: right;\">\n",
       "      <th></th>\n",
       "      <th>index</th>\n",
       "      <th>Position</th>\n",
       "    </tr>\n",
       "  </thead>\n",
       "  <tbody>\n",
       "    <tr>\n",
       "      <th>0</th>\n",
       "      <td>Keki M</td>\n",
       "      <td>Mistry</td>\n",
       "    </tr>\n",
       "    <tr>\n",
       "      <th>2</th>\n",
       "      <td>Hanne Sorensen</td>\n",
       "      <td></td>\n",
       "    </tr>\n",
       "    <tr>\n",
       "      <th>2</th>\n",
       "      <td>Dr Pradeep Kumar</td>\n",
       "      <td>Khosla</td>\n",
       "    </tr>\n",
       "    <tr>\n",
       "      <th>3</th>\n",
       "      <td>Don Callahan</td>\n",
       "      <td></td>\n",
       "    </tr>\n",
       "  </tbody>\n",
       "</table>\n",
       "</div>"
      ],
      "text/plain": [
       "              index Position\n",
       "0            Keki M   Mistry\n",
       "2    Hanne Sorensen         \n",
       "2  Dr Pradeep Kumar   Khosla\n",
       "3      Don Callahan         "
      ]
     },
     "execution_count": 26,
     "metadata": {},
     "output_type": "execute_result"
    }
   ],
   "source": [
    "final_table[final_table[\"Status\"].str.contains(\"I\")].iloc[:,:2]"
   ]
  },
  {
   "cell_type": "code",
   "execution_count": 27,
   "id": "e9525fee",
   "metadata": {},
   "outputs": [
    {
     "data": {
      "text/html": [
       "<div>\n",
       "<style scoped>\n",
       "    .dataframe tbody tr th:only-of-type {\n",
       "        vertical-align: middle;\n",
       "    }\n",
       "\n",
       "    .dataframe tbody tr th {\n",
       "        vertical-align: top;\n",
       "    }\n",
       "\n",
       "    .dataframe thead th {\n",
       "        text-align: right;\n",
       "    }\n",
       "</style>\n",
       "<table border=\"1\" class=\"dataframe\">\n",
       "  <thead>\n",
       "    <tr style=\"text-align: right;\">\n",
       "      <th></th>\n",
       "      <th>index</th>\n",
       "      <th>Position</th>\n",
       "    </tr>\n",
       "  </thead>\n",
       "  <tbody>\n",
       "    <tr>\n",
       "      <th>1</th>\n",
       "      <td>N G Subramaniam</td>\n",
       "      <td>COO</td>\n",
       "    </tr>\n",
       "    <tr>\n",
       "      <th>3</th>\n",
       "      <td>Rajesh Gopinathan</td>\n",
       "      <td>CEO &amp; MD</td>\n",
       "    </tr>\n",
       "  </tbody>\n",
       "</table>\n",
       "</div>"
      ],
      "text/plain": [
       "               index  Position\n",
       "1    N G Subramaniam       COO\n",
       "3  Rajesh Gopinathan  CEO & MD"
      ]
     },
     "execution_count": 27,
     "metadata": {},
     "output_type": "execute_result"
    }
   ],
   "source": [
    "final_table[final_table[\"Status\"].str.contains(\"NE\")].iloc[:,:2]"
   ]
  },
  {
   "cell_type": "code",
   "execution_count": null,
   "id": "aeabe9d2",
   "metadata": {},
   "outputs": [],
   "source": []
  }
 ],
 "metadata": {
  "kernelspec": {
   "display_name": "Python 3 (ipykernel)",
   "language": "python",
   "name": "python3"
  },
  "language_info": {
   "codemirror_mode": {
    "name": "ipython",
    "version": 3
   },
   "file_extension": ".py",
   "mimetype": "text/x-python",
   "name": "python",
   "nbconvert_exporter": "python",
   "pygments_lexer": "ipython3",
   "version": "3.9.7"
  }
 },
 "nbformat": 4,
 "nbformat_minor": 5
}
